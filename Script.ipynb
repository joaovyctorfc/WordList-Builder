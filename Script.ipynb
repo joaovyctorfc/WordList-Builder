{
  "nbformat": 4,
  "nbformat_minor": 0,
  "metadata": {
    "colab": {
      "provenance": []
    },
    "kernelspec": {
      "name": "python3",
      "display_name": "Python 3"
    },
    "language_info": {
      "name": "python"
    }
  },
  "cells": [
    {
      "cell_type": "code",
      "execution_count": null,
      "metadata": {
        "id": "cYnP2zYwSUw7"
      },
      "outputs": [],
      "source": [
        "import itertools\n",
        "\n",
        "file_name = input('\\n\\033 Nome da Word List: ')\n",
        "arq = open(file_name, 'w')\n",
        "\n",
        "\n",
        "tamanho= input('\\033 Quantos caracteres? [ex: 1:8] : ')\n",
        "start = int(tamanho.split(':')[0])\n",
        "final = int(tamanho.split(':')[1])\n",
        "\n",
        "\n",
        "complexidade = str(input(\"\\n\\033[36m[?] Personalizar Dados? ? [y/n]: \"))\n",
        "\n",
        "if complexidade == 'y':\n",
        "\n",
        "\tnome1 = str(input(\"\\n\\033 Primeiro Nome: \"))\n",
        "\tnome2 = str(input(\"\\n\\033 Ultimo Nome: \"))\n",
        "\taniversario = str(input(\"\\n\\033 Dia do Anivesário: \"))\n",
        "\tmes = str(input(\"\\n\\033 Mês do Anivesário: \"))\n",
        "\tano = str(input(\"\\n\\033 Ano de Nascimento: \"))\n",
        "  \n",
        "  \n",
        "\twords = nome1 + nome2 + aniversario + mes + ano\n",
        "else:\n",
        "\n",
        "\twords = 'abcdefghijklmnopqrstuvwxyz'\n",
        "\tpass\n",
        "\n",
        "characters_maiusculos = words.upper()\n",
        "characters_especiais = '!@#$%&*.,~-=\";:<>()\\[]/?_+\\' ' \n",
        "characters_numericos = '1234567890'\n",
        "\n",
        "\n",
        "add_numeros = input('\\n Adicionar Numeros?? (y/n): ')\n",
        "add_letras = input('\\n Adicionar letras Maiusculas?? (y/n): ')\n",
        "add_caracteres = input('\\n Adicionar caracteres especiais? (y/n): ')\n",
        "\n",
        "if (add_numeros == 'y'):\n",
        "\twords = ''.join([words, characters_numericos])\n",
        " \n",
        "if add_letras == 'y':\n",
        "\twords = ''.join([words, characters_maiusculos])\n",
        " \n",
        "if add_caracteres == 'y':\n",
        "\twords = ''.join([words, characters_especiais])\n",
        "\n",
        "\n",
        "for i in range(start, final+1):\n",
        "\tfor x in itertools.product(words, repeat=i):\n",
        "\t\ttemp = ''.join(x)\n",
        "\t\tprint(temp)\n",
        "\t\tarq.write(temp + '\\n')\n",
        "arq.close()"
      ]
    }
  ]
}